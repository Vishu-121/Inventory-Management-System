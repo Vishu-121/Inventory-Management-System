{
  "nbformat": 4,
  "nbformat_minor": 0,
  "metadata": {
    "colab": {
      "name": "new_product_adding.ipynb ",
      "provenance": [],
      "collapsed_sections": []
    },
    "kernelspec": {
      "name": "python3",
      "display_name": "Python 3"
    },
    "language_info": {
      "name": "python"
    }
  },
  "cells": [
    {
      "cell_type": "code",
      "metadata": {
        "id": "7KLLc49PzMO7"
      },
      "source": [
        "import json"
      ],
      "execution_count": 1,
      "outputs": []
    },
    {
      "cell_type": "code",
      "metadata": {
        "id": "VnaXJk90z1av"
      },
      "source": [
        "record={'11151': {'Amount': 15, 'Product': 'Biscuits', 'Quantity': 38},\n",
        " '11152': {'Amount': 35, 'Product': 'Chuski', 'Quantity': 20},\n",
        " '11153': {'Amount': 5, 'Product': 'Lays', 'Quantity': 78},\n",
        " '11154': {'Amount': 78, 'Product': 'Anar', 'Quantity': 15},\n",
        " '11155': {'Amount': 50, 'Product': 'Puri', 'Quantity': 35},\n",
        " '11156': {'Amount': 15, 'Product': 'Chocolate', 'Quantity': 80},\n",
        " '11157': {'Amount': 250, 'Product': 'Pizza', 'Quantity': 6},\n",
        " '11158': {'Amount': 199, 'Product': 'Burger', 'Quantity': 15},\n",
        " '11159': {'Amount': 78, 'Product': 'Icecream', 'Quantity': 38},\n",
        " '11115': {'Amount': 78, 'Product': 'Cake', 'Quantity': 20},\n",
        " '11111': {'Amount': 80, 'Product': 'Khamand', 'Quantity': 35},\n",
        " '11112': {'Amount': 62, 'Product': 'Bhutta', 'Quantity': 15},\n",
        " '11113': {'Amount': 38, 'Product': 'Milkshake', 'Quantity': 25},\n",
        " '11114': {'Amount': 20, 'Product': 'Wafersticks', 'Quantity': 75},\n",
        " '11115': {'Amount': 78, 'Product': 'Frenchfries', 'Quantity': 94},\n",
        " '11116': {'Amount': 148, 'Product': 'Pringles', 'Quantity': 35},\n",
        " '11117': {'Amount': 38, 'Product': 'Popcorn', 'Quantity': 22},\n",
        " '11118': {'Amount': 28, 'Product': 'Noodles', 'Quantity': 8},\n",
        " '11119': {'Amount': 78, 'Product': 'Handva', 'Quantity': 13},\n",
        " '1162': {'Amount': 250, 'Product': 'Raita', 'Quantity': 33},\n",
        " '11121': {'Amount': 75, 'Product': 'Pastry', 'Quantity': 5},\n",
        " '11122': {'Amount': 270, 'Product': 'Gulab jamun', 'Quantity': 48},\n",
        " '11123': {'Amount': 458, 'Product': 'Spaghetti', 'Quantity': 27},\n",
        " '11124': {'Amount': 170, 'Product': 'Jam', 'Quantity': 56},\n",
        " '11125': {'Amount': 115, 'Product': 'Pasta', 'Quantity': 4},\n",
        " '11126': {'Amount': 78, 'Product': 'Nachos', 'Quantity': 50},\n",
        " '11127': {'Amount': 69, 'Product': 'Sausages', 'Quantity': 44},\n",
        " '11128': {'Amount': 78, 'Product': 'Kebab', 'Quantity': 15},\n",
        " '11129': {'Amount': 135, 'Product': 'Mufali', 'Quantity': 16},\n",
        " '11135': {'Amount': 144, 'Product': 'Lavacake', 'Quantity': 8}}"
      ],
      "execution_count": 6,
      "outputs": []
    },
    {
      "cell_type": "code",
      "metadata": {
        "id": "1eMtydky0Gpq"
      },
      "source": [
        "js=json.dumps(record)\n",
        "fd=open(\"record.json\",'w')\n",
        "fd.write(js)\n",
        "fd.close()"
      ],
      "execution_count": 7,
      "outputs": []
    },
    {
      "cell_type": "code",
      "metadata": {
        "id": "6TGcxMsO0K4i"
      },
      "source": [
        "fd=open(\"record.json\",'r')\n",
        "r=fd.read()\n",
        "fd.close()"
      ],
      "execution_count": 8,
      "outputs": []
    },
    {
      "cell_type": "code",
      "metadata": {
        "id": "fK1B_JMQ0OsQ"
      },
      "source": [
        "record=json.loads(r)"
      ],
      "execution_count": 9,
      "outputs": []
    },
    {
      "cell_type": "code",
      "metadata": {
        "colab": {
          "base_uri": "https://localhost:8080/"
        },
        "id": "xV4QTERx3yMO",
        "outputId": "c84a5d26-78fc-4814-baec-a9ee4d479107"
      },
      "source": [
        "print(record)"
      ],
      "execution_count": 10,
      "outputs": [
        {
          "output_type": "stream",
          "name": "stdout",
          "text": [
            "{'11151': {'Amount': 15, 'Product': 'Biscuits', 'Quantity': 38}, '11152': {'Amount': 35, 'Product': 'Chuski', 'Quantity': 20}, '11153': {'Amount': 5, 'Product': 'Lays', 'Quantity': 78}, '11154': {'Amount': 78, 'Product': 'Anar', 'Quantity': 15}, '11155': {'Amount': 50, 'Product': 'Puri', 'Quantity': 35}, '11156': {'Amount': 15, 'Product': 'Chocolate', 'Quantity': 80}, '11157': {'Amount': 250, 'Product': 'Pizza', 'Quantity': 6}, '11158': {'Amount': 199, 'Product': 'Burger', 'Quantity': 15}, '11159': {'Amount': 78, 'Product': 'Icecream', 'Quantity': 38}, '11115': {'Amount': 78, 'Product': 'Frenchfries', 'Quantity': 94}, '11111': {'Amount': 80, 'Product': 'Khamand', 'Quantity': 35}, '11112': {'Amount': 62, 'Product': 'Bhutta', 'Quantity': 15}, '11113': {'Amount': 38, 'Product': 'Milkshake', 'Quantity': 25}, '11114': {'Amount': 20, 'Product': 'Wafersticks', 'Quantity': 75}, '11116': {'Amount': 148, 'Product': 'Pringles', 'Quantity': 35}, '11117': {'Amount': 38, 'Product': 'Popcorn', 'Quantity': 22}, '11118': {'Amount': 28, 'Product': 'Noodles', 'Quantity': 8}, '11119': {'Amount': 78, 'Product': 'Handva', 'Quantity': 13}, '1162': {'Amount': 250, 'Product': 'Raita', 'Quantity': 33}, '11121': {'Amount': 75, 'Product': 'Pastry', 'Quantity': 5}, '11122': {'Amount': 270, 'Product': 'Gulab jamun', 'Quantity': 48}, '11123': {'Amount': 458, 'Product': 'Spaghetti', 'Quantity': 27}, '11124': {'Amount': 170, 'Product': 'Jam', 'Quantity': 56}, '11125': {'Amount': 115, 'Product': 'Pasta', 'Quantity': 4}, '11126': {'Amount': 78, 'Product': 'Nachos', 'Quantity': 50}, '11127': {'Amount': 69, 'Product': 'Sausages', 'Quantity': 44}, '11128': {'Amount': 78, 'Product': 'Kebab', 'Quantity': 15}, '11129': {'Amount': 135, 'Product': 'Mufali', 'Quantity': 16}, '11135': {'Amount': 144, 'Product': 'Lavacake', 'Quantity': 8}}\n"
          ]
        }
      ]
    },
    {
      "cell_type": "code",
      "metadata": {
        "colab": {
          "base_uri": "https://localhost:8080/"
        },
        "id": "9_KpkfPZ33qt",
        "outputId": "aa6a7b62-e7b3-4879-cc74-91e1626403ba"
      },
      "source": [
        "product_id=str(input(\"Enter product ID:\"))\n",
        "product=str(input(\"Enter product:\"))\n",
        "Amount=int(input(\"Enter amount:\"))\n",
        "Quantity=int(input(\"Enter quantity:\"))\n",
        "record[product_id]={'product':product,'Quantity':Quantity,'Amount':Amount}"
      ],
      "execution_count": 11,
      "outputs": [
        {
          "name": "stdout",
          "output_type": "stream",
          "text": [
            "Enter product ID:243\n",
            "Enter product:Maggi\n",
            "Enter amount:67\n",
            "Enter quantity:3\n"
          ]
        }
      ]
    },
    {
      "cell_type": "code",
      "metadata": {
        "id": "eQtlr2TM4Oiy"
      },
      "source": [
        "js=json.dumps(record)\n",
        "fd=open(\"record.json\",'w')\n",
        "fd.write(js)\n",
        "fd.close()"
      ],
      "execution_count": 12,
      "outputs": []
    },
    {
      "cell_type": "code",
      "metadata": {
        "colab": {
          "base_uri": "https://localhost:8080/",
          "height": 137
        },
        "id": "0S9J3CcG4SNV",
        "outputId": "ba91c2ad-a891-442c-bab3-f8d3d3228c4a"
      },
      "source": [
        "js"
      ],
      "execution_count": 13,
      "outputs": [
        {
          "output_type": "execute_result",
          "data": {
            "application/vnd.google.colaboratory.intrinsic+json": {
              "type": "string"
            },
            "text/plain": [
              "'{\"11151\": {\"Amount\": 15, \"Product\": \"Biscuits\", \"Quantity\": 38}, \"11152\": {\"Amount\": 35, \"Product\": \"Chuski\", \"Quantity\": 20}, \"11153\": {\"Amount\": 5, \"Product\": \"Lays\", \"Quantity\": 78}, \"11154\": {\"Amount\": 78, \"Product\": \"Anar\", \"Quantity\": 15}, \"11155\": {\"Amount\": 50, \"Product\": \"Puri\", \"Quantity\": 35}, \"11156\": {\"Amount\": 15, \"Product\": \"Chocolate\", \"Quantity\": 80}, \"11157\": {\"Amount\": 250, \"Product\": \"Pizza\", \"Quantity\": 6}, \"11158\": {\"Amount\": 199, \"Product\": \"Burger\", \"Quantity\": 15}, \"11159\": {\"Amount\": 78, \"Product\": \"Icecream\", \"Quantity\": 38}, \"11115\": {\"Amount\": 78, \"Product\": \"Frenchfries\", \"Quantity\": 94}, \"11111\": {\"Amount\": 80, \"Product\": \"Khamand\", \"Quantity\": 35}, \"11112\": {\"Amount\": 62, \"Product\": \"Bhutta\", \"Quantity\": 15}, \"11113\": {\"Amount\": 38, \"Product\": \"Milkshake\", \"Quantity\": 25}, \"11114\": {\"Amount\": 20, \"Product\": \"Wafersticks\", \"Quantity\": 75}, \"11116\": {\"Amount\": 148, \"Product\": \"Pringles\", \"Quantity\": 35}, \"11117\": {\"Amount\": 38, \"Product\": \"Popcorn\", \"Quantity\": 22}, \"11118\": {\"Amount\": 28, \"Product\": \"Noodles\", \"Quantity\": 8}, \"11119\": {\"Amount\": 78, \"Product\": \"Handva\", \"Quantity\": 13}, \"1162\": {\"Amount\": 250, \"Product\": \"Raita\", \"Quantity\": 33}, \"11121\": {\"Amount\": 75, \"Product\": \"Pastry\", \"Quantity\": 5}, \"11122\": {\"Amount\": 270, \"Product\": \"Gulab jamun\", \"Quantity\": 48}, \"11123\": {\"Amount\": 458, \"Product\": \"Spaghetti\", \"Quantity\": 27}, \"11124\": {\"Amount\": 170, \"Product\": \"Jam\", \"Quantity\": 56}, \"11125\": {\"Amount\": 115, \"Product\": \"Pasta\", \"Quantity\": 4}, \"11126\": {\"Amount\": 78, \"Product\": \"Nachos\", \"Quantity\": 50}, \"11127\": {\"Amount\": 69, \"Product\": \"Sausages\", \"Quantity\": 44}, \"11128\": {\"Amount\": 78, \"Product\": \"Kebab\", \"Quantity\": 15}, \"11129\": {\"Amount\": 135, \"Product\": \"Mufali\", \"Quantity\": 16}, \"11135\": {\"Amount\": 144, \"Product\": \"Lavacake\", \"Quantity\": 8}, \"243\": {\"product\": \"Maggi\", \"Quantity\": 3, \"Amount\": 67}}'"
            ]
          },
          "metadata": {},
          "execution_count": 13
        }
      ]
    }
  ]
}