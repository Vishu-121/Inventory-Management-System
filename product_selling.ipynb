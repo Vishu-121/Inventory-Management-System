{
  "nbformat": 4,
  "nbformat_minor": 0,
  "metadata": {
    "colab": {
      "name": "product_selling.ipynb ",
      "provenance": [],
      "collapsed_sections": []
    },
    "kernelspec": {
      "name": "python3",
      "display_name": "Python 3"
    },
    "language_info": {
      "name": "python"
    }
  },
  "cells": [
    {
      "cell_type": "code",
      "metadata": {
        "id": "oUi7nnIS5cZb"
      },
      "source": [
        "import json"
      ],
      "execution_count": 14,
      "outputs": []
    },
    {
      "cell_type": "code",
      "metadata": {
        "id": "nJzRjCJf5gj7"
      },
      "source": [
        "import time"
      ],
      "execution_count": 15,
      "outputs": []
    },
    {
      "cell_type": "code",
      "metadata": {
        "id": "GR0D8MzR5mxw"
      },
      "source": [
        "t=time.ctime()"
      ],
      "execution_count": 16,
      "outputs": []
    },
    {
      "cell_type": "code",
      "metadata": {
        "id": "jgvVQuwy5tEq"
      },
      "source": [
        "fd=open(\"record.json\",'r')\n",
        "r=fd.read()\n",
        "fd.close()\n",
        "items=json.loads(r)"
      ],
      "execution_count": 17,
      "outputs": []
    },
    {
      "cell_type": "code",
      "metadata": {
        "colab": {
          "base_uri": "https://localhost:8080/"
        },
        "id": "cU4Jg1ea5w3Z",
        "outputId": "68776b55-29ec-4f06-9d9a-4029f3d31ace"
      },
      "source": [
        "items"
      ],
      "execution_count": 18,
      "outputs": [
        {
          "output_type": "execute_result",
          "data": {
            "text/plain": [
              "{'11111': {'Amount': 80, 'Product': 'Khamand', 'Quantity': 35},\n",
              " '11112': {'Amount': 62, 'Product': 'Bhutta', 'Quantity': 15},\n",
              " '11113': {'Amount': 38, 'Product': 'Milkshake', 'Quantity': 25},\n",
              " '11114': {'Amount': 20, 'Product': 'Wafersticks', 'Quantity': 75},\n",
              " '11115': {'Amount': 78, 'Product': 'Frenchfries', 'Quantity': 94},\n",
              " '11116': {'Amount': 148, 'Product': 'Pringles', 'Quantity': 35},\n",
              " '11117': {'Amount': 38, 'Product': 'Popcorn', 'Quantity': 22},\n",
              " '11118': {'Amount': 28, 'Product': 'Noodles', 'Quantity': 8},\n",
              " '11119': {'Amount': 78, 'Product': 'Handva', 'Quantity': 13},\n",
              " '11121': {'Amount': 75, 'Product': 'Pastry', 'Quantity': 5},\n",
              " '11122': {'Amount': 270, 'Product': 'Gulab jamun', 'Quantity': 48},\n",
              " '11123': {'Amount': 458, 'Product': 'Spaghetti', 'Quantity': 27},\n",
              " '11124': {'Amount': 170, 'Product': 'Jam', 'Quantity': 56},\n",
              " '11125': {'Amount': 115, 'Product': 'Pasta', 'Quantity': 4},\n",
              " '11126': {'Amount': 78, 'Product': 'Nachos', 'Quantity': 50},\n",
              " '11127': {'Amount': 69, 'Product': 'Sausages', 'Quantity': 44},\n",
              " '11128': {'Amount': 78, 'Product': 'Kebab', 'Quantity': 15},\n",
              " '11129': {'Amount': 135, 'Product': 'Mufali', 'Quantity': 16},\n",
              " '11135': {'Amount': 144, 'Product': 'Lavacake', 'Quantity': 8},\n",
              " '11151': {'Amount': 15, 'Product': 'Biscuits', 'Quantity': 38},\n",
              " '11152': {'Amount': 35, 'Product': 'Chuski', 'Quantity': 20},\n",
              " '11153': {'Amount': 5, 'Product': 'Lays', 'Quantity': 78},\n",
              " '11154': {'Amount': 78, 'Product': 'Anar', 'Quantity': 15},\n",
              " '11155': {'Amount': 50, 'Product': 'Puri', 'Quantity': 35},\n",
              " '11156': {'Amount': 15, 'Product': 'Chocolate', 'Quantity': 80},\n",
              " '11157': {'Amount': 250, 'Product': 'Pizza', 'Quantity': 6},\n",
              " '11158': {'Amount': 199, 'Product': 'Burger', 'Quantity': 15},\n",
              " '11159': {'Amount': 78, 'Product': 'Icecream', 'Quantity': 38},\n",
              " '1162': {'Amount': 250, 'Product': 'Raita', 'Quantity': 33},\n",
              " '243': {'Amount': 67, 'Quantity': 3, 'product': 'Maggi'}}"
            ]
          },
          "metadata": {},
          "execution_count": 18
        }
      ]
    },
    {
      "cell_type": "code",
      "metadata": {
        "colab": {
          "base_uri": "https://localhost:8080/"
        },
        "id": "noeYtYR952Fa",
        "outputId": "cb5598e4-9acf-4eb0-8dff-f83df0417668"
      },
      "source": [
        "items.keys()"
      ],
      "execution_count": 19,
      "outputs": [
        {
          "output_type": "execute_result",
          "data": {
            "text/plain": [
              "dict_keys(['11151', '11152', '11153', '11154', '11155', '11156', '11157', '11158', '11159', '11115', '11111', '11112', '11113', '11114', '11116', '11117', '11118', '11119', '1162', '11121', '11122', '11123', '11124', '11125', '11126', '11127', '11128', '11129', '11135', '243'])"
            ]
          },
          "metadata": {},
          "execution_count": 19
        }
      ]
    },
    {
      "cell_type": "code",
      "metadata": {
        "colab": {
          "base_uri": "https://localhost:8080/"
        },
        "id": "c0fOBU025_eW",
        "outputId": "9bd1f6cb-9849-4982-bf2b-dc0a2d50cc0c"
      },
      "source": [
        "print(\"-------------------------------------------\")\n",
        "ui_product=str(input(\"Enter the product ID:\"))\n",
        "ui_quantity=int(input(\"Enter the quantity:\"))\n",
        "print(\"----------------------------------------\")\n",
        "print(\"Expiry date:\",t)\n",
        "print(\"--------------------------------------------\")\n",
        "if((ui_product in items.keys())and (ui_quantity <= (items[ui_product]['Quantity']))):\n",
        "    print(\"Product:\",items[ui_product]['Product'])\n",
        "    print(\"Amount:\",items[ui_product]['Amount'])\n",
        "    print(\"Billing Amount:\",items[ui_product]['Amount']*ui_quantity)\n",
        "    print(\"----------------------------------------\")\n",
        "    items[ui_product]['Quantity']=items[ui_product]['Quantity']-ui_quantity\n",
        "elif((ui_product in items.keys())and(ui_quantity > (items[ui_product]['Quantity']))):\n",
        "  print(\"Product:\",items[ui_product]['Product'])\n",
        "  print(\"Updated_Quantity:\",items[ui_product]['Quantity']+ui_quantity)\n",
        "  items[ui_product]['Quantity']=items[ui_product]['Quantity']+ui_quantity\n",
        "else:\n",
        "  print(\"Product is not available\")\n",
        "\n",
        "print(\"Thank you for shopping\")"
      ],
      "execution_count": 20,
      "outputs": [
        {
          "output_type": "stream",
          "name": "stdout",
          "text": [
            "-------------------------------------------\n",
            "Enter the product ID:11122\n",
            "Enter the quantity:5\n",
            "----------------------------------------\n",
            "Expiry date: Mon Sep  6 16:17:35 2021\n",
            "--------------------------------------------\n",
            "Product: Gulab jamun\n",
            "Amount: 270\n",
            "Billing Amount: 1350\n",
            "----------------------------------------\n",
            "Thank you for shopping\n"
          ]
        }
      ]
    },
    {
      "cell_type": "code",
      "metadata": {
        "colab": {
          "base_uri": "https://localhost:8080/"
        },
        "id": "aZfn-Lsj6KSL",
        "outputId": "02aa2932-d549-498e-aa91-75dd7320b470"
      },
      "source": [
        "items"
      ],
      "execution_count": 21,
      "outputs": [
        {
          "output_type": "execute_result",
          "data": {
            "text/plain": [
              "{'11111': {'Amount': 80, 'Product': 'Khamand', 'Quantity': 35},\n",
              " '11112': {'Amount': 62, 'Product': 'Bhutta', 'Quantity': 15},\n",
              " '11113': {'Amount': 38, 'Product': 'Milkshake', 'Quantity': 25},\n",
              " '11114': {'Amount': 20, 'Product': 'Wafersticks', 'Quantity': 75},\n",
              " '11115': {'Amount': 78, 'Product': 'Frenchfries', 'Quantity': 94},\n",
              " '11116': {'Amount': 148, 'Product': 'Pringles', 'Quantity': 35},\n",
              " '11117': {'Amount': 38, 'Product': 'Popcorn', 'Quantity': 22},\n",
              " '11118': {'Amount': 28, 'Product': 'Noodles', 'Quantity': 8},\n",
              " '11119': {'Amount': 78, 'Product': 'Handva', 'Quantity': 13},\n",
              " '11121': {'Amount': 75, 'Product': 'Pastry', 'Quantity': 5},\n",
              " '11122': {'Amount': 270, 'Product': 'Gulab jamun', 'Quantity': 43},\n",
              " '11123': {'Amount': 458, 'Product': 'Spaghetti', 'Quantity': 27},\n",
              " '11124': {'Amount': 170, 'Product': 'Jam', 'Quantity': 56},\n",
              " '11125': {'Amount': 115, 'Product': 'Pasta', 'Quantity': 4},\n",
              " '11126': {'Amount': 78, 'Product': 'Nachos', 'Quantity': 50},\n",
              " '11127': {'Amount': 69, 'Product': 'Sausages', 'Quantity': 44},\n",
              " '11128': {'Amount': 78, 'Product': 'Kebab', 'Quantity': 15},\n",
              " '11129': {'Amount': 135, 'Product': 'Mufali', 'Quantity': 16},\n",
              " '11135': {'Amount': 144, 'Product': 'Lavacake', 'Quantity': 8},\n",
              " '11151': {'Amount': 15, 'Product': 'Biscuits', 'Quantity': 38},\n",
              " '11152': {'Amount': 35, 'Product': 'Chuski', 'Quantity': 20},\n",
              " '11153': {'Amount': 5, 'Product': 'Lays', 'Quantity': 78},\n",
              " '11154': {'Amount': 78, 'Product': 'Anar', 'Quantity': 15},\n",
              " '11155': {'Amount': 50, 'Product': 'Puri', 'Quantity': 35},\n",
              " '11156': {'Amount': 15, 'Product': 'Chocolate', 'Quantity': 80},\n",
              " '11157': {'Amount': 250, 'Product': 'Pizza', 'Quantity': 6},\n",
              " '11158': {'Amount': 199, 'Product': 'Burger', 'Quantity': 15},\n",
              " '11159': {'Amount': 78, 'Product': 'Icecream', 'Quantity': 38},\n",
              " '1162': {'Amount': 250, 'Product': 'Raita', 'Quantity': 33},\n",
              " '243': {'Amount': 67, 'Quantity': 3, 'product': 'Maggi'}}"
            ]
          },
          "metadata": {},
          "execution_count": 21
        }
      ]
    },
    {
      "cell_type": "code",
      "metadata": {
        "id": "4RKz1Eha6Qbi"
      },
      "source": [
        "js=json.dumps(items)\n",
        "fd=open(\"record.json\",'w')\n",
        "fd.write(js)\n",
        "fd.close()"
      ],
      "execution_count": 22,
      "outputs": []
    },
    {
      "cell_type": "code",
      "metadata": {
        "colab": {
          "base_uri": "https://localhost:8080/"
        },
        "id": "8Sh65YAI6UlH",
        "outputId": "fbd9077f-b9e4-4b92-ebc5-b507d25d75d9"
      },
      "source": [
        "ID=int(input(\"Enter Transaction ID:\"))\n",
        "sales={ID:{'Product ID':ui_product,'Quantity':ui_quantity,'Amount':items[ui_product]['Amount']*ui_quantity }}\n",
        "print(sales)"
      ],
      "execution_count": 24,
      "outputs": [
        {
          "output_type": "stream",
          "name": "stdout",
          "text": [
            "Enter Transaction ID:11122\n",
            "{11122: {'Product ID': '11122', 'Quantity': 5, 'Amount': 1350}}\n"
          ]
        }
      ]
    },
    {
      "cell_type": "code",
      "metadata": {
        "id": "aCiKT-Vl6l6r"
      },
      "source": [
        "sale=json.dumps(sales)\n",
        "fd=open(\"sales.json\",'a')\n",
        "r=fd.write(sale)\n",
        "fd.close()"
      ],
      "execution_count": 25,
      "outputs": []
    },
    {
      "cell_type": "code",
      "metadata": {
        "colab": {
          "base_uri": "https://localhost:8080/",
          "height": 35
        },
        "id": "3LYMDyfF6pHh",
        "outputId": "3340467a-78eb-4a84-8905-834001b556f0"
      },
      "source": [
        "sale"
      ],
      "execution_count": 26,
      "outputs": [
        {
          "output_type": "execute_result",
          "data": {
            "application/vnd.google.colaboratory.intrinsic+json": {
              "type": "string"
            },
            "text/plain": [
              "'{\"11122\": {\"Product ID\": \"11122\", \"Quantity\": 5, \"Amount\": 1350}}'"
            ]
          },
          "metadata": {},
          "execution_count": 26
        }
      ]
    }
  ]
}